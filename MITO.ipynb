{
 "cells": [
  {
   "cell_type": "markdown",
   "id": "6fda1868-2161-498a-8c91-07417de975a2",
   "metadata": {},
   "source": [
    "##MITO IS SPREADSHEET FRONT-END FOR PANDAS . WE CAN CALL MITO INTO OUR JUPYTER ENVIRONMENT \n",
    "## AND EVERY EDIT WE MAKE IN THE SPREADSHEET WILL GENERATE EQUIVALENT PYTHON CODE FOR US."
   ]
  },
  {
   "cell_type": "code",
   "execution_count": 1,
   "id": "91c999f9-2d7c-4fab-8293-7db69c5273a1",
   "metadata": {},
   "outputs": [
    {
     "data": {
      "application/vnd.jupyter.widget-view+json": {
       "model_id": "d7fe1a9a63b8430085ef2d1aec598d41",
       "version_major": 2,
       "version_minor": 0
      },
      "text/plain": [
       "MitoWidget(analysis_data_json='{\"analysisName\": \"id-rrhvflrfcp\", \"analysisToReplay\": {\"analysisName\": \"id-kncn…"
      ]
     },
     "metadata": {},
     "output_type": "display_data"
    }
   ],
   "source": [
    "import mitosheet\n",
    "mitosheet.sheet(analysis_to_replay=\"id-kncnxruljf\")"
   ]
  },
  {
   "cell_type": "code",
   "execution_count": 2,
   "id": "b25a3908-0e14-40d5-8ce5-4d17433cd126",
   "metadata": {},
   "outputs": [],
   "source": [
    "from mitosheet import *; register_analysis(\"id-kncnxruljf\");\n",
    "    \n",
    "# Imported C:\\mito_data.csv\n",
    "import pandas as pd\n",
    "mito_data = pd.read_csv(r'C:\\mito_data.csv')\n",
    "\n",
    "# Added column new-column-w5sc\n",
    "mito_data.insert(9, 'new-column-w5sc', 0)\n",
    "\n",
    "# Deleted columns new-column-w5sc\n",
    "mito_data.drop(['new-column-w5sc'], axis=1, inplace=True)\n",
    "\n",
    "# Added column new-column-lqzh\n",
    "mito_data.insert(14, 'new-column-lqzh', 0)\n",
    "\n",
    "# Renamed columns new_quantity\n",
    "mito_data.rename(columns={'new-column-lqzh': 'new_quantity'}, inplace=True)\n",
    "\n",
    "# Set formula of new_quantity\n",
    "mito_data['new_quantity'] = mito_data['quantity'] * 10\n",
    "\n",
    "# Added column new-column-ld4k\n",
    "mito_data.insert(10, 'new-column-ld4k', 0)\n",
    "\n",
    "# Set formula of new-column-ld4k\n",
    "mito_data['new-column-ld4k'] = mito_data['sales']*10\n",
    "\n",
    "# Renamed columns new_sales\n",
    "mito_data.rename(columns={'new-column-ld4k': 'new_sales'}, inplace=True)\n",
    "\n",
    "# Renamed columns new_sales1\n",
    "mito_data.rename(columns={'new_sales': 'new_sales1'}, inplace=True)\n",
    "\n",
    "# Added column new-column-ujdl\n",
    "mito_data.insert(11, 'new-column-ujdl', 0)\n",
    "\n",
    "# Renamed columns new_sales\n",
    "mito_data.rename(columns={'new-column-ujdl': 'new_sales'}, inplace=True)\n",
    "\n",
    "# Set formula of new_sales\n",
    "mito_data['new_sales'] = mito_data['sales']*1\n",
    "\n",
    "# Deleted columns customer_name\n",
    "mito_data.drop(['customer_name'], axis=1, inplace=True)\n",
    "\n",
    "# Sorted profit in descending order\n",
    "mito_data = mito_data.sort_values(by='profit', ascending=False, na_position='last')\n",
    "\n",
    "# Pivoted into mito_data\n",
    "unused_columns = mito_data.columns.difference(set(['region']).union(set(['category'])).union(set({'profit'})))\n",
    "tmp_df = mito_data.drop(unused_columns, axis=1)\n",
    "pivot_table = tmp_df.pivot_table(\n",
    "    index=['region'],\n",
    "    columns=['category'],\n",
    "    values=['profit'],\n",
    "    aggfunc={'profit': ['sum']}\n",
    ")\n",
    "pivot_table.set_axis([flatten_column_header(col) for col in pivot_table.keys()], axis=1, inplace=True)\n",
    "mito_data_pivot = pivot_table.reset_index()\n",
    "\n",
    "# Pivoted into mito_data\n",
    "mito_data_pivot_1 = pd.DataFrame(data={})\n",
    "\n",
    "# Added column new-column-4t75\n",
    "mito_data.insert(5, 'new-column-4t75', 0)\n",
    "\n",
    "# Renamed columns concat\n",
    "mito_data.rename(columns={'new-column-4t75': 'concat'}, inplace=True)\n",
    "\n",
    "# Set formula of concat\n",
    "mito_data['concat'] = CONCAT(mito_data['country'],' (',mito_data['region'],')')\n"
   ]
  },
  {
   "cell_type": "code",
   "execution_count": null,
   "id": "d8ec45ef-3e10-42d8-8590-4172425b6fe7",
   "metadata": {},
   "outputs": [],
   "source": []
  },
  {
   "cell_type": "code",
   "execution_count": null,
   "id": "4eee11e0-bcfa-40f5-b378-5091b6145887",
   "metadata": {},
   "outputs": [],
   "source": []
  }
 ],
 "metadata": {
  "kernelspec": {
   "display_name": "Python 3 (ipykernel)",
   "language": "python",
   "name": "python3"
  },
  "language_info": {
   "codemirror_mode": {
    "name": "ipython",
    "version": 3
   },
   "file_extension": ".py",
   "mimetype": "text/x-python",
   "name": "python",
   "nbconvert_exporter": "python",
   "pygments_lexer": "ipython3",
   "version": "3.9.12"
  }
 },
 "nbformat": 4,
 "nbformat_minor": 5
}
